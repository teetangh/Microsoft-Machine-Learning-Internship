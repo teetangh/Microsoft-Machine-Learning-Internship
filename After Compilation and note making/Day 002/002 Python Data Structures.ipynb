{
 "nbformat": 4,
 "nbformat_minor": 2,
 "metadata": {
  "language_info": {
   "name": "python",
   "codemirror_mode": {
    "name": "ipython",
    "version": 3
   },
   "version": "3.8.1-final"
  },
  "orig_nbformat": 2,
  "file_extension": ".py",
  "mimetype": "text/x-python",
  "name": "python",
  "npconvert_exporter": "python",
  "pygments_lexer": "ipython3",
  "version": 3,
  "kernelspec": {
   "name": "python38132bit51bf2d4383df4065b0c992fe407a3440",
   "display_name": "Python 3.8.1 32-bit"
  }
 },
 "cells": [
  {
   "cell_type": "code",
   "execution_count": 1,
   "metadata": {},
   "outputs": [
    {
     "output_type": "execute_result",
     "data": {
      "text/plain": "[67, 2]"
     },
     "metadata": {},
     "execution_count": 1
    }
   ],
   "source": [
    "# DAMN\n",
    "x=[23,45,67,2,5]\n",
    "x[2:4]"
   ]
  },
  {
   "cell_type": "code",
   "execution_count": 2,
   "metadata": {},
   "outputs": [
    {
     "output_type": "stream",
     "name": "stdout",
     "text": "[23, 45, 67, 2, 5]\n[23, 45, 'bipin', 5]\n"
    }
   ],
   "source": [
    "print(x)\n",
    "x[2:4]=[\"bipin\"]\n",
    "print(x)"
   ]
  },
  {
   "cell_type": "code",
   "execution_count": 3,
   "metadata": {},
   "outputs": [
    {
     "output_type": "stream",
     "name": "stdout",
     "text": "[23, 45, 'bipin', 5]\n[23, 45, 'bipin', 5, 'new']\n"
    }
   ],
   "source": [
    "print(x)\n",
    "x.append(\"new\")\n",
    "print(x)"
   ]
  },
  {
   "cell_type": "code",
   "execution_count": 4,
   "metadata": {},
   "outputs": [
    {
     "output_type": "stream",
     "name": "stdout",
     "text": "[23, 45, 'bipin', 5, 'new']\n[23, 45, 'bipin', 5, 'new', [1, 2, 3]]\n"
    }
   ],
   "source": [
    "print(x)\n",
    "x.append([1,2,3])\n",
    "print(x)"
   ]
  },
  {
   "cell_type": "code",
   "execution_count": 5,
   "metadata": {},
   "outputs": [
    {
     "output_type": "execute_result",
     "data": {
      "text/plain": "[1, 2, 3]"
     },
     "metadata": {},
     "execution_count": 5
    }
   ],
   "source": [
    "x[5]"
   ]
  },
  {
   "cell_type": "code",
   "execution_count": 6,
   "metadata": {},
   "outputs": [
    {
     "output_type": "stream",
     "name": "stdout",
     "text": "[23, 45, 'bipin', 5, 'new', [1, 2, 3]]\n[23, 45, 'bipin', 5, 'new', [1, 2, 3], 1, 2, 3]\n"
    }
   ],
   "source": [
    "print(x)\n",
    "x.extend([1,2,3])\n",
    "print(x)"
   ]
  },
  {
   "cell_type": "code",
   "execution_count": 7,
   "metadata": {},
   "outputs": [
    {
     "output_type": "stream",
     "name": "stdout",
     "text": "[23, 45, 'bipin', 5, 'new', [1, 2, 3], 1, 2, 3]\n[23, 45, 'another', 'bipin', 5, 'new', [1, 2, 3], 1, 2, 3]\n"
    }
   ],
   "source": [
    "print(x)\n",
    "x.insert(2,\"another\")\n",
    "print(x)"
   ]
  },
  {
   "cell_type": "code",
   "execution_count": 8,
   "metadata": {},
   "outputs": [
    {
     "output_type": "stream",
     "name": "stdout",
     "text": "[23, 45, 'another', 'bipin', 5, 'new', [1, 2, 3], 1, 2, 3]\n[23, 45, 'another', 'bipin', 5, 'new', [1, 2, 3], 1, 2, 3, 3, 4, 5]\n"
    }
   ],
   "source": [
    "print(x)\n",
    "x=x+[3,4,5]\n",
    "print(x)"
   ]
  },
  {
   "cell_type": "code",
   "execution_count": 9,
   "metadata": {},
   "outputs": [
    {
     "output_type": "stream",
     "name": "stdout",
     "text": "[23, 45, 'another', 'bipin', 5, 'new', [1, 2, 3], 1, 2, 3, 3, 4, 5]\n[23, 45, 'another', 'bipin', 5, 'new', [1, 2, 3], 1, 2, 3, 3, 4]\n"
    }
   ],
   "source": [
    "print(x)\n",
    "x.pop()\n",
    "print(x)"
   ]
  },
  {
   "cell_type": "code",
   "execution_count": 10,
   "metadata": {},
   "outputs": [
    {
     "output_type": "stream",
     "name": "stdout",
     "text": "[23, 45, 'another', 'bipin', 5, 'new', [1, 2, 3], 1, 2, 3, 3, 4]\n[23, 45, 'another', 5, 'new', [1, 2, 3], 1, 2, 3, 3, 4]\n"
    }
   ],
   "source": [
    "print(x)\n",
    "x.pop(3)\n",
    "print(x)"
   ]
  },
  {
   "cell_type": "code",
   "execution_count": 11,
   "metadata": {},
   "outputs": [
    {
     "output_type": "stream",
     "name": "stdout",
     "text": "[23, 45, 'another', 5, 'new', [1, 2, 3], 1, 2, 3, 3, 4]\n[23, 45, 5, 'new', [1, 2, 3], 1, 2, 3, 3, 4]\n"
    }
   ],
   "source": [
    "print(x)\n",
    "x.remove(\"another\")\n",
    "print(x)"
   ]
  },
  {
   "cell_type": "code",
   "execution_count": 12,
   "metadata": {},
   "outputs": [
    {
     "output_type": "stream",
     "name": "stdout",
     "text": "[23, 45, 5, 'new', [1, 2, 3], 1, 2, 3, 3, 4]\n[23, 45, 5, 'new', [1, 2, 3], 1, 2, 3, 4]\n"
    }
   ],
   "source": [
    "print(x)\n",
    "x.remove(3)\n",
    "print(x)"
   ]
  },
  {
   "cell_type": "code",
   "execution_count": 13,
   "metadata": {},
   "outputs": [
    {
     "output_type": "execute_result",
     "data": {
      "text/plain": "[0, 1, 2, 3, 4, 5, 6, 7, 8, 9]"
     },
     "metadata": {},
     "execution_count": 13
    }
   ],
   "source": [
    "list(range(10))"
   ]
  },
  {
   "cell_type": "code",
   "execution_count": 14,
   "metadata": {},
   "outputs": [
    {
     "output_type": "stream",
     "name": "stdout",
     "text": "0\n1\n2\n3\n4\n5\n6\n7\n8\n9\n"
    }
   ],
   "source": [
    "for i in range(10):\n",
    "    print(i)"
   ]
  },
  {
   "cell_type": "code",
   "execution_count": 15,
   "metadata": {},
   "outputs": [
    {
     "output_type": "stream",
     "name": "stdout",
     "text": "0\n1\n2\n3\n4\n5\n6\n7\n8\n9\nOutside Loop\n"
    }
   ],
   "source": [
    "for i in list(range(10)):\n",
    "    print(i)\n",
    "print(\"Outside Loop\")"
   ]
  },
  {
   "cell_type": "code",
   "execution_count": 16,
   "metadata": {},
   "outputs": [
    {
     "output_type": "stream",
     "name": "stdout",
     "text": "[25, 16, 9, 4, 1, 0, 1, 4, 9, 16]\n[0, 1, 1, 4, 4, 9, 9, 16, 16, 25]\n[25, 16, 16, 9, 9, 4, 4, 1, 1, 0]\n[25, 16, 16, 9, 9, 4, 4, 1, 1, 0]\n"
    }
   ],
   "source": [
    "x = [(a-5)**2 for a in range(10)]\n",
    "print(x)\n",
    "x.sort(reverse=False)  #Sorts in place\n",
    "print(x)\n",
    "x.sort(reverse=True)\n",
    "print(x)\n",
    "x.sort\n",
    "print(x)"
   ]
  },
  {
   "cell_type": "code",
   "execution_count": 17,
   "metadata": {},
   "outputs": [
    {
     "output_type": "stream",
     "name": "stdout",
     "text": "[25, 16, 16, 9, 9, 4, 4, 1, 1, 0]\n[0, 1, 1, 4, 4, 9, 9, 16, 16, 25]\n"
    }
   ],
   "source": [
    "print(x)\n",
    "x.reverse()  #Reverses in place\n",
    "print(x)"
   ]
  },
  {
   "cell_type": "code",
   "execution_count": 18,
   "metadata": {},
   "outputs": [
    {
     "output_type": "stream",
     "name": "stdout",
     "text": "[3, 6, 9, 12, 15]\n9\n"
    }
   ],
   "source": [
    "# 2D Lists,below are list of lists where each have a individual list inside it\n",
    "\n",
    "number_sets = [[2,4,6,8,[1,2,[1,2,3,4]],10],[3,6,9,12,15],[4,8,12,16,20]]\n",
    "print(number_sets[1])\n",
    "print(number_sets[1][2])"
   ]
  },
  {
   "cell_type": "code",
   "execution_count": 19,
   "metadata": {},
   "outputs": [
    {
     "output_type": "stream",
     "name": "stdout",
     "text": "[[2, 4, 6, 8, 10, 12, 14, 16, 18, 20], [3, 6, 9, 12, 15], [4, 8, 12, 16, 20]]\n"
    }
   ],
   "source": [
    "a=[[2,4,6,8,10],[3,6,9,12,15],[4,8,12,16,20]]\n",
    "a[0].extend([12,14,16,18,20])\n",
    "print(a)"
   ]
  },
  {
   "cell_type": "code",
   "execution_count": 20,
   "metadata": {},
   "outputs": [
    {
     "output_type": "stream",
     "name": "stdout",
     "text": "[[2, 4, 6, 8, 10, 12, 14, 16, 18, 20], [3, 6, 9, 12, 15], [20, 16, 12, 8, 4]]\n"
    }
   ],
   "source": [
    "a[2].reverse()\n",
    "print(a)"
   ]
  },
  {
   "cell_type": "code",
   "execution_count": 21,
   "metadata": {},
   "outputs": [
    {
     "output_type": "stream",
     "name": "stdout",
     "text": "5\n9\n6\n4\n"
    }
   ],
   "source": [
    "cities = [\"Delhi\",\"Bangalore\",\"Mumbai\",\"Pune\"]\n",
    "print(len(cities[0]))\n",
    "print(len(cities[1]))\n",
    "print(len(cities[2]))\n",
    "print(len(cities[3]))\n",
    "#DAMN"
   ]
  },
  {
   "cell_type": "code",
   "execution_count": 22,
   "metadata": {},
   "outputs": [],
   "source": [
    "# for city in cities\n",
    "#     print\n",
    "# #DAMN"
   ]
  },
  {
   "cell_type": "code",
   "execution_count": 23,
   "metadata": {},
   "outputs": [
    {
     "output_type": "execute_result",
     "data": {
      "text/plain": "4"
     },
     "metadata": {},
     "execution_count": 23
    }
   ],
   "source": [
    "100%32"
   ]
  },
  {
   "cell_type": "code",
   "execution_count": 24,
   "metadata": {},
   "outputs": [
    {
     "output_type": "stream",
     "name": "stdout",
     "text": "range(0, 8)\n"
    },
    {
     "output_type": "execute_result",
     "data": {
      "text/plain": "[0, 1, 0, 1, 0, 1, 0, 1]"
     },
     "metadata": {},
     "execution_count": 24
    }
   ],
   "source": [
    "x = range(8)\n",
    "print(x)\n",
    "x_mod_2=[]\n",
    "\n",
    "for a in x:\n",
    "    x_mod_2.append(a%2)\n",
    "\n",
    "x_mod_2"
   ]
  },
  {
   "cell_type": "code",
   "execution_count": 25,
   "metadata": {},
   "outputs": [
    {
     "output_type": "execute_result",
     "data": {
      "text/plain": "[0, 1, 0, 1, 0, 1, 0, 1]"
     },
     "metadata": {},
     "execution_count": 25
    }
   ],
   "source": [
    "x_mod_2 = []\n",
    "x_mod_2 = [a%2 for a in x]\n",
    "x_mod_2"
   ]
  },
  {
   "cell_type": "code",
   "execution_count": 26,
   "metadata": {},
   "outputs": [
    {
     "output_type": "stream",
     "name": "stdout",
     "text": "range(0, 8)\n"
    }
   ],
   "source": [
    "print(x)"
   ]
  },
  {
   "cell_type": "code",
   "execution_count": 27,
   "metadata": {},
   "outputs": [
    {
     "output_type": "stream",
     "name": "stdout",
     "text": "[0.0, 1.0986122886681098, 1.6094379124341003, 1.9459101490553132]\n"
    }
   ],
   "source": [
    "import math\n",
    "x_ls2 = [math.log(a) for a in x if a%2 != 0 ]\n",
    "print(x_ls2)"
   ]
  },
  {
   "cell_type": "code",
   "execution_count": 28,
   "metadata": {},
   "outputs": [
    {
     "output_type": "execute_result",
     "data": {
      "text/plain": "[0, 0.0, 2, 1.0986122886681098, 4, 1.6094379124341003, 6, 1.9459101490553132]"
     },
     "metadata": {},
     "execution_count": 28
    }
   ],
   "source": [
    "def my_func(x):\n",
    "    if x%2!=0:\n",
    "        return(math.log(x))\n",
    "    else:\n",
    "        return(x)\n",
    "\n",
    "x_ls3=[my_func(a) for a in x]\n",
    "x_ls3"
   ]
  },
  {
   "cell_type": "code",
   "execution_count": 29,
   "metadata": {},
   "outputs": [
    {
     "output_type": "stream",
     "name": "stdout",
     "text": "inside print 13\ninside print 34\ninside print 50\n"
    }
   ],
   "source": [
    "def mysum(x=10,y=10):\n",
    "    return(2*x+3*y)\n",
    "\n",
    "print(\"inside print\",mysum(2,3))\n",
    "print(\"inside print\",mysum(2))\n",
    "print(\"inside print\",mysum())"
   ]
  },
  {
   "cell_type": "code",
   "execution_count": 30,
   "metadata": {},
   "outputs": [
    {
     "output_type": "execute_result",
     "data": {
      "text/plain": "32"
     },
     "metadata": {},
     "execution_count": 30
    }
   ],
   "source": [
    "mysum(y=4)\n",
    "# 2*10 + 3*4"
   ]
  },
  {
   "cell_type": "code",
   "execution_count": 31,
   "metadata": {},
   "outputs": [
    {
     "output_type": "stream",
     "name": "stdout",
     "text": "-10\n302\n"
    }
   ],
   "source": [
    "print(mysum(y=-10))\n",
    "print(mysum(y=100,x=1))"
   ]
  },
  {
   "cell_type": "code",
   "execution_count": 32,
   "metadata": {},
   "outputs": [
    {
     "output_type": "stream",
     "name": "stdout",
     "text": "1st Lamda Function: 343\n2nd Lamda Function 8\nCube Function: 125\n<function <lambda> at 0x05A7C658>\n"
    }
   ],
   "source": [
    "def cube(y):\n",
    "    return y*y*y\n",
    "\n",
    "z = lambda a: a*a*a\n",
    "print(\"1st Lamda Function:\",z(7))\n",
    "\n",
    "w = lambda a,b: a+b\n",
    "print(\"2nd Lamda Function\",w(3,5))\n",
    "\n",
    "print(\"Cube Function:\",cube(5))\n",
    "print(lambda a: a*a*a)"
   ]
  },
  {
   "cell_type": "code",
   "execution_count": 33,
   "metadata": {},
   "outputs": [
    {
     "output_type": "stream",
     "name": "stdout",
     "text": "{'actor': 'nasir', 'animal': 'dog', 'earth': 1, 'list': [1, 2, 3]}\n"
    }
   ],
   "source": [
    "d={\"actor\":\"nasir\",\"animal\":\"dog\",\"earth\":1,\"list\":[1,2,3]}\n",
    "print(d)"
   ]
  },
  {
   "cell_type": "code",
   "execution_count": 34,
   "metadata": {},
   "outputs": [
    {
     "output_type": "execute_result",
     "data": {
      "text/plain": "'dog'"
     },
     "metadata": {},
     "execution_count": 34
    }
   ],
   "source": [
    "d[\"animal\"]\n",
    "# d[\"fish\"]   #throws error"
   ]
  },
  {
   "cell_type": "code",
   "execution_count": 35,
   "metadata": {},
   "outputs": [
    {
     "output_type": "stream",
     "name": "stdout",
     "text": "{'actor': 'nasir', 'animal': 'dog', 'earth': 1, 'list': [1, 2, 3], 'module': 'intro'}\n"
    }
   ],
   "source": [
    "# add new key value pair\n",
    "d['module']=\"intro\"\n",
    "print(d)"
   ]
  },
  {
   "cell_type": "code",
   "execution_count": 36,
   "metadata": {},
   "outputs": [
    {
     "output_type": "execute_result",
     "data": {
      "text/plain": "1"
     },
     "metadata": {},
     "execution_count": 36
    }
   ],
   "source": [
    "d['list'][0]\n",
    ""
   ]
  },
  {
   "cell_type": "code",
   "execution_count": 37,
   "metadata": {},
   "outputs": [
    {
     "output_type": "stream",
     "name": "stdout",
     "text": "{'animal': 'dog', 'earth': 1, 'list': [1, 2, 3], 'module': 'intro'}\n"
    }
   ],
   "source": [
    "del d['actor']\n",
    "print(d)"
   ]
  },
  {
   "cell_type": "code",
   "execution_count": 38,
   "metadata": {},
   "outputs": [
    {
     "output_type": "stream",
     "name": "stdout",
     "text": "value for key: animal is : dog\nvalue for key: earth is : 1\nvalue for key: list is : [1, 2, 3]\nvalue for key: module is : intro\n"
    }
   ],
   "source": [
    "# Iterates on Dictionary key and not on the value\n",
    "for elem in d:\n",
    "    print('value for key: %s is' % (elem),\":\",d[elem])"
   ]
  },
  {
   "cell_type": "code",
   "execution_count": 39,
   "metadata": {},
   "outputs": [
    {
     "output_type": "execute_result",
     "data": {
      "text/plain": "dict_items([('animal', 'dog'), ('earth', 1), ('list', [1, 2, 3]), ('module', 'intro')])"
     },
     "metadata": {},
     "execution_count": 39
    }
   ],
   "source": [
    "d.items()"
   ]
  },
  {
   "cell_type": "code",
   "execution_count": 42,
   "metadata": {},
   "outputs": [
    {
     "output_type": "stream",
     "name": "stdout",
     "text": "Value for key: animal is dog \nValue for key: earth is 1 \nValue for key: list is [1, 2, 3] \nValue for key: module is intro \n"
    }
   ],
   "source": [
    "for a,b in d.items():\n",
    "    print('Value for key: %s is %s ' %(a,b))"
   ]
  },
  {
   "cell_type": "code",
   "execution_count": null,
   "metadata": {},
   "outputs": [],
   "source": [
    "my_dict = {'name': 'Guhan' , 'age' : 24}\n",
    "\n",
    "# Update Value\n",
    "my_dict[]"
   ]
  }
 ]
}