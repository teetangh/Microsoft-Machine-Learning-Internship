{
 "nbformat": 4,
 "nbformat_minor": 2,
 "metadata": {
  "language_info": {
   "name": "python",
   "codemirror_mode": {
    "name": "ipython",
    "version": 3
   },
   "version": "3.8.1-final"
  },
  "orig_nbformat": 2,
  "file_extension": ".py",
  "mimetype": "text/x-python",
  "name": "python",
  "npconvert_exporter": "python",
  "pygments_lexer": "ipython3",
  "version": 3,
  "kernelspec": {
   "name": "python38132bit51bf2d4383df4065b0c992fe407a3440",
   "display_name": "Python 3.8.1 32-bit"
  }
 },
 "cells": [
  {
   "cell_type": "markdown",
   "metadata": {},
   "source": [
    "# Dictionaries"
   ],
   "execution_count": null,
   "outputs": []
  },
  {
   "cell_type": "code",
   "execution_count": 1,
   "metadata": {},
   "outputs": [
    {
     "output_type": "stream",
     "name": "stdout",
     "text": "{'actor': 'nasir', 'animal': 'dog', 'earth': 1, 'list': [1, 2, 3]}\n"
    }
   ],
   "source": [
    "d = {\"actor\":\"nasir\",\"animal\":\"dog\",\"earth\":1,\"list\":[1,2,3]}\n",
    "print(d) "
   ]
  },
  {
   "cell_type": "code",
   "execution_count": 2,
   "metadata": {},
   "outputs": [
    {
     "output_type": "execute_result",
     "data": {
      "text/plain": "'dog'"
     },
     "metadata": {},
     "execution_count": 2
    }
   ],
   "source": [
    "d[\"animal\"]"
   ]
  },
  {
   "cell_type": "code",
   "execution_count": 3,
   "metadata": {},
   "outputs": [
    {
     "output_type": "stream",
     "name": "stdout",
     "text": "{'animal': 'dog', 'earth': 1, 'list': [1, 2, 3]}\n"
    }
   ],
   "source": [
    "del d['actor']\n",
    "print(d)\n",
    "# DAMN"
   ]
  },
  {
   "cell_type": "code",
   "execution_count": 4,
   "metadata": {},
   "outputs": [
    {
     "output_type": "stream",
     "name": "stdout",
     "text": "value for key: animal is : dog\nvalue for key: earth is : 1\nvalue for key: list is : [1, 2, 3]\n"
    }
   ],
   "source": [
    "# Iterates on Dictionary key and not on the value\n",
    "for elem in d:\n",
    "    print('value for key: %s is' % (elem),\":\",d[elem])"
   ]
  },
  {
   "cell_type": "code",
   "execution_count": 5,
   "metadata": {},
   "outputs": [
    {
     "output_type": "execute_result",
     "data": {
      "text/plain": "dict_items([('animal', 'dog'), ('earth', 1), ('list', [1, 2, 3])])"
     },
     "metadata": {},
     "execution_count": 5
    }
   ],
   "source": [
    "d.items()"
   ]
  },
  {
   "cell_type": "code",
   "execution_count": 6,
   "metadata": {},
   "outputs": [
    {
     "output_type": "stream",
     "name": "stdout",
     "text": "Value for key: animal is dog \nValue for key: earth is 1 \nValue for key: list is [1, 2, 3] \n"
    }
   ],
   "source": [
    "for a,b in d.items():\n",
    "    print('Value for key: %s is %s ' %(a,b))"
   ]
  },
  {
   "cell_type": "code",
   "execution_count": 7,
   "metadata": {},
   "outputs": [
    {
     "output_type": "stream",
     "name": "stdout",
     "text": "{'name': 'Kaustav', 'age': 26}\n{'name': 'Kaustav', 'age': 26, 'address': 'Chennai'}\n"
    }
   ],
   "source": [
    "my_dict = {'name':'Kaustav','age':24}\n",
    "\n",
    "# Update Value\n",
    "my_dict['age'] = 26\n",
    "print(my_dict)\n",
    "my_dict['address'] = 'Chennai'\n",
    "print(my_dict)"
   ]
  },
  {
   "cell_type": "code",
   "execution_count": 8,
   "metadata": {},
   "outputs": [
    {
     "output_type": "stream",
     "name": "stdout",
     "text": "16\n{1: 1, 2: 4, 3: 9, 5: 25}\n{1: 1, 2: 4, 3: 9}\n{}\n"
    }
   ],
   "source": [
    "squares = { 1:1 , 2:4 , 3:9 , 4:16 , 5:25 }\n",
    "\n",
    "print(squares.pop(4))\n",
    "print(squares)\n",
    "\n",
    "# Delete particular item\n",
    "del (squares[5])\n",
    "print(squares)\n",
    "\n",
    "# remove all the items\n",
    "squares.clear()\n",
    "print(squares)\n",
    "\n",
    "# Delete the dictionary itslef\n",
    "del squares\n",
    "# print(squares)\n",
    ""
   ]
  },
  {
   "cell_type": "markdown",
   "metadata": {},
   "source": [
    "# Sets"
   ],
   "execution_count": null,
   "outputs": []
  },
  {
   "cell_type": "code",
   "execution_count": 9,
   "metadata": {},
   "outputs": [],
   "source": [
    "animals = {'cat' , 'dog'}"
   ]
  },
  {
   "cell_type": "code",
   "execution_count": 10,
   "metadata": {},
   "outputs": [
    {
     "output_type": "execute_result",
     "data": {
      "text/plain": "True"
     },
     "metadata": {},
     "execution_count": 10
    }
   ],
   "source": [
    "'cat' in animals"
   ]
  },
  {
   "cell_type": "code",
   "execution_count": 11,
   "metadata": {},
   "outputs": [
    {
     "output_type": "execute_result",
     "data": {
      "text/plain": "False"
     },
     "metadata": {},
     "execution_count": 11
    }
   ],
   "source": [
    "'fish' in animals"
   ]
  },
  {
   "cell_type": "code",
   "execution_count": 12,
   "metadata": {},
   "outputs": [
    {
     "output_type": "stream",
     "name": "stdout",
     "text": "{'fish', 'dog', 'cat'}\n"
    }
   ],
   "source": [
    "# For adding items to the list\n",
    "animals.add('fish')\n",
    "print(animals)"
   ]
  },
  {
   "cell_type": "code",
   "execution_count": 13,
   "metadata": {},
   "outputs": [
    {
     "output_type": "stream",
     "name": "stdout",
     "text": "{'fish', 'dog'}\n"
    }
   ],
   "source": [
    "# For removing items from the list\n",
    "animals.remove('cat')\n",
    "print(animals)"
   ]
  },
  {
   "cell_type": "code",
   "execution_count": 14,
   "metadata": {},
   "outputs": [
    {
     "output_type": "stream",
     "name": "stdout",
     "text": "fish\nhere\nthere\ncat\ndog\n"
    }
   ],
   "source": [
    "animals = {'cat' , 'dog','fish','here','there'}\n",
    "# Iterating over the Set\n",
    "for animal in animals:\n",
    "    print(animal)"
   ]
  },
  {
   "cell_type": "code",
   "execution_count": 15,
   "metadata": {},
   "outputs": [],
   "source": [
    "a= {1,2,3,4,5,6,'one'}\n",
    "b= {4,5,6,7,8,9}"
   ]
  },
  {
   "cell_type": "code",
   "execution_count": 16,
   "metadata": {},
   "outputs": [
    {
     "output_type": "stream",
     "name": "stdout",
     "text": "{1, 2, 3, 4, 5, 6, 7, 8, 9, 'one'}\n"
    }
   ],
   "source": [
    "# for union operations\n",
    "c=a.union(b)\n",
    "print(c)"
   ]
  },
  {
   "cell_type": "code",
   "execution_count": 17,
   "metadata": {},
   "outputs": [
    {
     "output_type": "stream",
     "name": "stdout",
     "text": "{4, 5, 6}\n"
    }
   ],
   "source": [
    "# for intersection operations\n",
    "d=a.intersection(b)\n",
    "print(d)"
   ]
  },
  {
   "cell_type": "code",
   "execution_count": 18,
   "metadata": {},
   "outputs": [
    {
     "output_type": "stream",
     "name": "stdout",
     "text": "False\nTrue\nFalse\n"
    }
   ],
   "source": [
    "print(a.issubset(b))\n",
    "print(a.issubset(c))\n",
    "print(a.issubset(d))"
   ]
  },
  {
   "cell_type": "code",
   "execution_count": 19,
   "metadata": {},
   "outputs": [
    {
     "output_type": "execute_result",
     "data": {
      "text/plain": "True"
     },
     "metadata": {},
     "execution_count": 19
    }
   ],
   "source": [
    "c.issuperset(b)"
   ]
  },
  {
   "cell_type": "code",
   "execution_count": 20,
   "metadata": {},
   "outputs": [
    {
     "output_type": "stream",
     "name": "stdout",
     "text": "{1, 2, 3, 4, 5, 6, 'one'}\n{4, 5, 6, 7, 8, 9}\n{1, 2, 3, 'one'}\n{1, 2, 3, 7, 8, 9, 'one'}\n"
    }
   ],
   "source": [
    "print(a)\n",
    "print(b)\n",
    "print(a.difference(b))   # a-b\n",
    "print(a.symmetric_difference(b))  # (a-b)U(b-a)   "
   ]
  },
  {
   "cell_type": "markdown",
   "metadata": {},
   "source": [
    "# Tuples"
   ],
   "execution_count": null,
   "outputs": []
  },
  {
   "cell_type": "code",
   "execution_count": 21,
   "metadata": {},
   "outputs": [
    {
     "output_type": "execute_result",
     "data": {
      "text/plain": "(12345, 54321, 'hello!')"
     },
     "metadata": {},
     "execution_count": 21
    }
   ],
   "source": [
    "# Tuple is an immutable List\n",
    "t = 12345 , 54321 , 'hello!'\n",
    "t "
   ]
  },
  {
   "cell_type": "code",
   "execution_count": 22,
   "metadata": {},
   "outputs": [
    {
     "output_type": "execute_result",
     "data": {
      "text/plain": "((12345, 54321, 'hello!'), (1, 2, 3, 4, 5))"
     },
     "metadata": {},
     "execution_count": 22
    }
   ],
   "source": [
    "# Tuples can contain tuples themselves\n",
    "u = t,(1,2,3,4,5)\n",
    "u"
   ]
  },
  {
   "cell_type": "code",
   "execution_count": 23,
   "metadata": {},
   "outputs": [
    {
     "output_type": "stream",
     "name": "stdout",
     "text": "(12345, 54321, 'hello!')\n"
    }
   ],
   "source": [
    "print(t)"
   ]
  },
  {
   "cell_type": "code",
   "execution_count": 24,
   "metadata": {},
   "outputs": [
    {
     "output_type": "error",
     "ename": "TypeError",
     "evalue": "'tuple' object does not support item assignment",
     "traceback": [
      "\u001b[1;31m---------------------------------------------------------------------------\u001b[0m",
      "\u001b[1;31mTypeError\u001b[0m                                 Traceback (most recent call last)",
      "\u001b[1;32m<ipython-input-24-c53a6627cd0f>\u001b[0m in \u001b[0;36m<module>\u001b[1;34m\u001b[0m\n\u001b[1;32m----> 1\u001b[1;33m \u001b[0mt\u001b[0m\u001b[1;33m[\u001b[0m\u001b[1;36m0\u001b[0m\u001b[1;33m]\u001b[0m \u001b[1;33m=\u001b[0m \u001b[1;36m21\u001b[0m  \u001b[1;31m#Cannot reassign values\u001b[0m\u001b[1;33m\u001b[0m\u001b[1;33m\u001b[0m\u001b[0m\n\u001b[0m",
      "\u001b[1;31mTypeError\u001b[0m: 'tuple' object does not support item assignment"
     ]
    }
   ],
   "source": [
    "t[0] = 21  #Cannot reassign values"
   ]
  },
  {
   "cell_type": "markdown",
   "metadata": {},
   "source": [
    "## NOTE\n",
    "### But tuples can have mutable objects such as lists. So that tuple's elements cannot be changed. You'll see inthe example below:\n",
    "### When we try to change elelment of tuples , we get an error. ut when we try to change element of a mutable element,it can be done"
   ],
   "execution_count": null,
   "outputs": []
  },
  {
   "cell_type": "code",
   "execution_count": 25,
   "metadata": {},
   "outputs": [
    {
     "output_type": "stream",
     "name": "stdout",
     "text": "([1, 2, 3], [3, 2, 1])\n"
    }
   ],
   "source": [
    "v = ([1,2,3],[3,2,1])\n",
    "print(v)"
   ]
  },
  {
   "cell_type": "code",
   "execution_count": 26,
   "metadata": {},
   "outputs": [
    {
     "output_type": "stream",
     "name": "stdout",
     "text": "(13, 12, 13)\n(13, 12, 13)\n14\n"
    }
   ],
   "source": [
    "# Smart Trick\n",
    "var =13 \n",
    "tup = (var ,12 ,13)\n",
    "print(tup)\n",
    "var = 14\n",
    "print(tup) \n",
    "print(var) "
   ]
  },
  {
   "cell_type": "markdown",
   "metadata": {},
   "source": [
    "### Lists have priority over tuples "
   ],
   "execution_count": null,
   "outputs": []
  },
  {
   "cell_type": "code",
   "execution_count": 27,
   "metadata": {},
   "outputs": [
    {
     "output_type": "stream",
     "name": "stdout",
     "text": "([1, 2, 3], [3, 2, 1])\n([21, 2, 3], [3, 2, 1])\n"
    }
   ],
   "source": [
    "# Exceptional Case\n",
    "print(v)\n",
    "v[0][0]=21\n",
    "print(v)"
   ]
  },
  {
   "cell_type": "code",
   "execution_count": 28,
   "metadata": {},
   "outputs": [
    {
     "output_type": "stream",
     "name": "stdout",
     "text": "[0, 1, 0, 1, 0, 1, 0, 1, 0, 1]\n{0: 0, 1: 1, 2: 2, 3: 3, 4: 4, 5: 5, 6: 6, 7: 7, 8: 8, 9: 9}\n"
    }
   ],
   "source": [
    "a = [ a % 2 for a in range (10)]\n",
    "print(a)\n",
    "d1 = {x : x for x in range(10)}\n",
    "print(d1)"
   ]
  },
  {
   "cell_type": "code",
   "execution_count": 29,
   "metadata": {},
   "outputs": [
    {
     "output_type": "stream",
     "name": "stdout",
     "text": "{(0, 1): 0, (1, 2): 1, (2, 3): 2, (3, 4): 3, (4, 5): 4, (5, 6): 5, (6, 7): 6, (7, 8): 7, (8, 9): 8, (9, 10): 9}\n"
    }
   ],
   "source": [
    "d2 = {(x,x+1):x for x in range(10)}\n",
    "# Create a dictionary with tuple keys\n",
    "print(d2)"
   ]
  },
  {
   "cell_type": "code",
   "execution_count": 30,
   "metadata": {},
   "outputs": [
    {
     "output_type": "execute_result",
     "data": {
      "text/plain": "{(0, 1): 0,\n (1, 2): 1,\n (2, 3): 2,\n (3, 4): 3,\n (4, 5): 4,\n (5, 6): 5,\n (6, 7): 6,\n (7, 8): 7,\n (8, 9): 8,\n (9, 10): 9}"
     },
     "metadata": {},
     "execution_count": 30
    }
   ],
   "source": [
    "d2"
   ]
  },
  {
   "cell_type": "code",
   "execution_count": 31,
   "metadata": {},
   "outputs": [
    {
     "output_type": "stream",
     "name": "stdout",
     "text": "<class 'tuple'>\n5\n"
    }
   ],
   "source": [
    "# Using tuple to query a dictionary\n",
    "t = (5,6)\n",
    "print(type(t))\n",
    "print(d2[t])"
   ]
  }
 ]
}