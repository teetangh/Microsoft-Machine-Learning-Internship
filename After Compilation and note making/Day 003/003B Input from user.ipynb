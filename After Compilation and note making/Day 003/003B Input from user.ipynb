{
 "nbformat": 4,
 "nbformat_minor": 2,
 "metadata": {
  "language_info": {
   "name": "python",
   "codemirror_mode": {
    "name": "ipython",
    "version": 3
   },
   "version": "3.8.1-final"
  },
  "orig_nbformat": 2,
  "file_extension": ".py",
  "mimetype": "text/x-python",
  "name": "python",
  "npconvert_exporter": "python",
  "pygments_lexer": "ipython3",
  "version": 3,
  "kernelspec": {
   "name": "python38132bit51bf2d4383df4065b0c992fe407a3440",
   "display_name": "Python 3.8.1 32-bit"
  }
 },
 "cells": [
  {
   "cell_type": "markdown",
   "metadata": {},
   "source": [
    "# Taking User Input"
   ]
  },
  {
   "cell_type": "code",
   "execution_count": 1,
   "metadata": {},
   "outputs": [
    {
     "output_type": "stream",
     "name": "stdout",
     "text": "Entered 4 of type <class 'str'>\n"
    }
   ],
   "source": [
    "num = input (\"enter a number\")\n",
    "print('Entered',num,'of type',type(num))"
   ]
  },
  {
   "cell_type": "code",
   "execution_count": 2,
   "metadata": {},
   "outputs": [
    {
     "output_type": "stream",
     "name": "stdout",
     "text": "Entered Kaustav of type <class 'str'>\nEntered 26 of type <class 'str'>\nAfter TypeCasting: 26 is of type <class 'int'>\n"
    }
   ],
   "source": [
    "string = input(\"What is your name?\")\n",
    "print('Entered',string,'of type',type(string))\n",
    "num2 = input (\"enter a number\")\n",
    "print('Entered',num2,'of type',type(num2))\n",
    "my_num = int(num2)\n",
    "print('After TypeCasting:',my_num,'is of type',type(my_num))"
   ]
  }
 ]
}