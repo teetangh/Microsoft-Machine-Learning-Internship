{
 "nbformat": 4,
 "nbformat_minor": 2,
 "metadata": {
  "language_info": {
   "name": "python",
   "codemirror_mode": {
    "name": "ipython",
    "version": 3
   },
   "version": "3.8.1-final"
  },
  "orig_nbformat": 2,
  "file_extension": ".py",
  "mimetype": "text/x-python",
  "name": "python",
  "npconvert_exporter": "python",
  "pygments_lexer": "ipython3",
  "version": 3,
  "kernelspec": {
   "name": "python38132bit51bf2d4383df4065b0c992fe407a3440",
   "display_name": "Python 3.8.1 32-bit"
  }
 },
 "cells": [
  {
   "cell_type": "markdown",
   "metadata": {},
   "source": [
    "# Intro to Pandas & data visualization"
   ]
  },
  {
   "cell_type": "code",
   "execution_count": 1,
   "metadata": {},
   "outputs": [],
   "source": [
    "# pip install pandas\n",
    "import pandas as pd"
   ]
  },
  {
   "cell_type": "markdown",
   "metadata": {},
   "source": [
    "## Data Structures in Pandas\n",
    "### Dataframe and series \n",
    "### A Dataframe in a 2d array of values with both a row and a column index \n",
    "### A Series is a 1d array of values with an index "
   ]
  },
  {
   "cell_type": "markdown",
   "metadata": {},
   "source": [
    "## From Stackoverflow,\n",
    "### The primary pandas data structure. So, the Series is the data structure for a single column of a DataFrame , not only conceptually, but literally, i.e. the data in a DataFrame is actually stored in memory as a collection of Series . Analogously: We need both lists and matrices, because matrices are built with lists"
   ]
  },
  {
   "cell_type": "markdown",
   "metadata": {},
   "source": [
    "## Series"
   ]
  },
  {
   "cell_type": "code",
   "execution_count": 4,
   "metadata": {},
   "outputs": [
    {
     "output_type": "stream",
     "name": "stdout",
     "text": "0    11\n1    28\n2    72\n3     3\n4     5\n5     8\ndtype: int64\n"
    }
   ],
   "source": [
    "import pandas as pd\n",
    "S = pd.Series([11,28,72,3,5,8])\n",
    "print(S)"
   ]
  },
  {
   "cell_type": "code",
   "execution_count": 5,
   "metadata": {},
   "outputs": [
    {
     "output_type": "stream",
     "name": "stdout",
     "text": "RangeIndex(start=0, stop=6, step=1)\n[11 28 72  3  5  8]\n"
    }
   ],
   "source": [
    "print(S.index)\n",
    "print(S.values)"
   ]
  },
  {
   "cell_type": "markdown",
   "metadata": {},
   "source": [
    "## Difference between Numpy arrays and Series"
   ]
  },
  {
   "cell_type": "code",
   "execution_count": 6,
   "metadata": {},
   "outputs": [
    {
     "output_type": "stream",
     "name": "stdout",
     "text": "[11 28 72  3  5  8]\n[11 28 72  3  5  8]\n<class 'numpy.ndarray'>\n<class 'numpy.ndarray'>\n"
    }
   ],
   "source": [
    "import numpy as np\n",
    "X = np.array([11,28,72,3,5,8])\n",
    "print(X)\n",
    "print(S.values)\n",
    "# Both are same type\n",
    "# Pandas is written on top of Numpy\n",
    "print(type(X))\n",
    "print(type(S.values))\n",
    ""
   ]
  },
  {
   "cell_type": "code",
   "execution_count": 8,
   "metadata": {},
   "outputs": [
    {
     "output_type": "stream",
     "name": "stdout",
     "text": "apples      37\noranges     46\ncherries    83\npears       42\ndtype: int64\nsum of S: 115\n"
    }
   ],
   "source": [
    "fruits = ['apples','oranges','cherries','pears']\n",
    "S = pd.Series([20,33,52,10],index = fruits)\n",
    "S2 = pd.Series([17,13,31,32],index = fruits)\n",
    "print(S + S2)\n",
    "print(\"sum of S:\",sum(S))"
   ]
  },
  {
   "cell_type": "code",
   "execution_count": 9,
   "metadata": {},
   "outputs": [
    {
     "output_type": "stream",
     "name": "stdout",
     "text": "apples          NaN\ncherries       83.0\noranges        46.0\npears          42.0\nraspberries     NaN\ndtype: float64\n"
    }
   ],
   "source": [
    "fruits = ['apples','oranges','cherries','pears']\n",
    "fruits2 = ['raspberries','oranges','cherries','pears']\n",
    "\n",
    "S = pd.Series([20,33,52,10],index = fruits)\n",
    "S2 = pd.Series([17,13,31,32],index = fruits2)\n",
    "print(S + S2)"
   ]
  },
  {
   "cell_type": "code",
   "execution_count": 10,
   "metadata": {},
   "outputs": [
    {
     "output_type": "stream",
     "name": "stdout",
     "text": "apples     NaN\narmut      NaN\ncherries   NaN\nelma       NaN\nkiraz      NaN\noranges    NaN\npears      NaN\nportakal   NaN\ndtype: float64\n"
    }
   ],
   "source": [
    "fruits = ['apples','oranges','cherries','pears']\n",
    "fruits_tr = ['elma','portakal','kiraz','armut']\n",
    "\n",
    "S = pd.Series([20,33,52,10],index = fruits)\n",
    "S2 = pd.Series([17,13,31,32],index = fruits_tr)\n",
    "print(S + S2)"
   ]
  },
  {
   "cell_type": "markdown",
   "metadata": {},
   "source": [
    "## Series Indexing"
   ]
  },
  {
   "cell_type": "code",
   "execution_count": 11,
   "metadata": {},
   "outputs": [
    {
     "output_type": "execute_result",
     "data": {
      "text/plain": "1"
     },
     "metadata": {},
     "execution_count": 11
    }
   ],
   "source": [
    "a = [1,2,3,4]\n",
    "a[0]"
   ]
  },
  {
   "cell_type": "code",
   "execution_count": 16,
   "metadata": {},
   "outputs": [
    {
     "output_type": "execute_result",
     "data": {
      "text/plain": "apples      20\noranges     33\ncherries    52\npears       10\ndtype: int64"
     },
     "metadata": {},
     "execution_count": 16
    }
   ],
   "source": [
    "S"
   ]
  },
  {
   "cell_type": "code",
   "execution_count": 15,
   "metadata": {},
   "outputs": [
    {
     "output_type": "stream",
     "name": "stdout",
     "text": "Single Indexing 20\n@@@@@@@@@@@@\nMulti Indexing\n apples      20\noranges     33\ncherries    52\ndtype: int64\n"
    }
   ],
   "source": [
    "print('Single Indexing',S['apples'])\n",
    "print('@@@@@@@@@@@@')\n",
    "print('Multi Indexing\\n' ,S[['apples','oranges','cherries']])"
   ]
  },
  {
   "cell_type": "markdown",
   "metadata": {},
   "source": [
    "## pandas.Series.apply"
   ]
  },
  {
   "cell_type": "code",
   "execution_count": 17,
   "metadata": {},
   "outputs": [
    {
     "output_type": "stream",
     "name": "stdout",
     "text": "apples      20\noranges     33\ncherries    52\npears       10\ndtype: int64\n"
    },
    {
     "output_type": "execute_result",
     "data": {
      "text/plain": "apples      2.995732\noranges     3.496508\ncherries    3.951244\npears       2.302585\ndtype: float64"
     },
     "metadata": {},
     "execution_count": 17
    }
   ],
   "source": [
    "# Ex\n",
    "print(S)\n",
    "S.apply(np.log)"
   ]
  },
  {
   "cell_type": "code",
   "execution_count": 18,
   "metadata": {},
   "outputs": [
    {
     "output_type": "execute_result",
     "data": {
      "text/plain": "apples      20\noranges     33\ncherries    52\npears       10\ndtype: int64"
     },
     "metadata": {},
     "execution_count": 18
    }
   ],
   "source": [
    "S"
   ]
  },
  {
   "cell_type": "code",
   "execution_count": 20,
   "metadata": {},
   "outputs": [
    {
     "output_type": "error",
     "ename": "SyntaxError",
     "evalue": "invalid syntax (<ipython-input-20-a87eb0079a67>, line 1)",
     "traceback": [
      "\u001b[1;36m  File \u001b[1;32m\"<ipython-input-20-a87eb0079a67>\"\u001b[1;36m, line \u001b[1;32m1\u001b[0m\n\u001b[1;33m    def fn:\u001b[0m\n\u001b[1;37m          ^\u001b[0m\n\u001b[1;31mSyntaxError\u001b[0m\u001b[1;31m:\u001b[0m invalid syntax\n"
     ]
    }
   ],
   "source": [
    "# def fn:\n",
    "#     if x > 50:\n",
    "#         return x\n",
    "#     else:\n",
    "#         return x + 10"
   ]
  },
  {
   "cell_type": "code",
   "execution_count": 19,
   "metadata": {},
   "outputs": [
    {
     "output_type": "execute_result",
     "data": {
      "text/plain": "apples      30\noranges     43\ncherries    52\npears       20\ndtype: int64"
     },
     "metadata": {},
     "execution_count": 19
    }
   ],
   "source": [
    "S.apply(lambda x: x if x > 50 else x + 10)"
   ]
  },
  {
   "cell_type": "code",
   "execution_count": 21,
   "metadata": {},
   "outputs": [
    {
     "output_type": "execute_result",
     "data": {
      "text/plain": "oranges     33\ncherries    52\ndtype: int64"
     },
     "metadata": {},
     "execution_count": 21
    }
   ],
   "source": [
    "S[S>30]"
   ]
  },
  {
   "cell_type": "code",
   "execution_count": 22,
   "metadata": {},
   "outputs": [
    {
     "output_type": "execute_result",
     "data": {
      "text/plain": "True"
     },
     "metadata": {},
     "execution_count": 22
    }
   ],
   "source": [
    "\"apples\" in S"
   ]
  },
  {
   "cell_type": "code",
   "execution_count": null,
   "metadata": {},
   "outputs": [],
   "source": [
    "# Creating Series Objects from dictionaries\n",
    "cities = {\"London\": 8615246,\n",
    "          \"Berlin\": 8615246,\n",
    "          \"London\": 8615246,\n",
    "          \"London\": 8615246,\n",
    "          \"London\": 8615246,\n",
    "          \"London\": 8615246,\n",
    "          \"London\": 8615246,\n",
    "          \"London\": 8615246,\n",
    "          \"Milan\": 8615246,\n",
    "                            }\n",
    "# DAMN"
   ]
  },
  {
   "cell_type": "code",
   "execution_count": null,
   "metadata": {},
   "outputs": [],
   "source": [
    "my_cities = ['London','Paris','Berlin','Hamburg']\n",
    "my_cities_series = pd.Series(cities,index = my_cities)\n",
    "my_cities_series"
   ]
  },
  {
   "cell_type": "code",
   "execution_count": null,
   "metadata": {},
   "outputs": [],
   "source": [
    "my_cities = ['London','Paris','Zurich','Berlin','Stuttgart','Hamburg']\n",
    "my_cities_series = pd.Series(cities,index = my_cities)\n",
    "# DAMN\n"
   ]
  },
  {
   "cell_type": "code",
   "execution_count": null,
   "metadata": {},
   "outputs": [],
   "source": []
  },
  {
   "cell_type": "code",
   "execution_count": null,
   "metadata": {},
   "outputs": [],
   "source": []
  },
  {
   "cell_type": "code",
   "execution_count": null,
   "metadata": {},
   "outputs": [],
   "source": [
    "print(my_series_series.dropna())"
   ]
  },
  {
   "cell_type": "code",
   "execution_count": null,
   "metadata": {},
   "outputs": [],
   "source": [
    "print(my_series_series.fillna(10))"
   ]
  },
  {
   "cell_type": "code",
   "execution_count": null,
   "metadata": {},
   "outputs": [],
   "source": [
    "missing_cities = {'Stuttgart':597939,'Zurich':378884}\n",
    "my_cities_series.fillna(missing_cities)"
   ]
  }
 ]
}